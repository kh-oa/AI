{
 "cells": [
  {
   "cell_type": "code",
   "execution_count": 21,
   "id": "1e045b9a-9585-48b8-801b-9b1505064ee8",
   "metadata": {},
   "outputs": [],
   "source": [
    "# Thư viện\n",
    "import numpy as np\n",
    "import pandas as pd\n",
    "import matplotlib.pyplot as plt\n",
    "from sklearn.naive_bayes import BernoulliNB\n",
    "from sklearn.naive_bayes import MultinomialNB\n",
    "from sklearn.feature_extraction.text import CountVectorizer"
   ]
  },
  {
   "cell_type": "code",
   "execution_count": 2,
   "id": "b2bae994-734f-430c-9bfc-3eabbf5996eb",
   "metadata": {},
   "outputs": [
    {
     "data": {
      "text/html": [
       "<div>\n",
       "<style scoped>\n",
       "    .dataframe tbody tr th:only-of-type {\n",
       "        vertical-align: middle;\n",
       "    }\n",
       "\n",
       "    .dataframe tbody tr th {\n",
       "        vertical-align: top;\n",
       "    }\n",
       "\n",
       "    .dataframe thead th {\n",
       "        text-align: right;\n",
       "    }\n",
       "</style>\n",
       "<table border=\"1\" class=\"dataframe\">\n",
       "  <thead>\n",
       "    <tr style=\"text-align: right;\">\n",
       "      <th></th>\n",
       "      <th>Text</th>\n",
       "      <th>Label</th>\n",
       "    </tr>\n",
       "  </thead>\n",
       "  <tbody>\n",
       "    <tr>\n",
       "      <th>0</th>\n",
       "      <td>The impact of educational reforms remains unce...</td>\n",
       "      <td>positive</td>\n",
       "    </tr>\n",
       "    <tr>\n",
       "      <th>1</th>\n",
       "      <td>Critics argue that recent improvements in the ...</td>\n",
       "      <td>negative</td>\n",
       "    </tr>\n",
       "    <tr>\n",
       "      <th>2</th>\n",
       "      <td>Innovative teaching methods have led to unexpe...</td>\n",
       "      <td>positive</td>\n",
       "    </tr>\n",
       "    <tr>\n",
       "      <th>3</th>\n",
       "      <td>Despite budget constraints, the school has man...</td>\n",
       "      <td>positive</td>\n",
       "    </tr>\n",
       "    <tr>\n",
       "      <th>4</th>\n",
       "      <td>The true effectiveness of online learning plat...</td>\n",
       "      <td>negative</td>\n",
       "    </tr>\n",
       "  </tbody>\n",
       "</table>\n",
       "</div>"
      ],
      "text/plain": [
       "                                                Text     Label\n",
       "0  The impact of educational reforms remains unce...  positive\n",
       "1  Critics argue that recent improvements in the ...  negative\n",
       "2  Innovative teaching methods have led to unexpe...  positive\n",
       "3  Despite budget constraints, the school has man...  positive\n",
       "4  The true effectiveness of online learning plat...  negative"
      ]
     },
     "execution_count": 2,
     "metadata": {},
     "output_type": "execute_result"
    }
   ],
   "source": [
    "# Lấy dữ liệu\n",
    "data = pd.read_csv('Education.csv')\n",
    "data.head()"
   ]
  },
  {
   "cell_type": "code",
   "execution_count": 3,
   "id": "5117f13e-3e92-4eb5-b4dc-cc900a746061",
   "metadata": {},
   "outputs": [],
   "source": [
    "# tạo hàm train test\n",
    "def split_train_test(data, ratio_test):\n",
    "    np.random.seed(00)\n",
    "    index_permu = np.random.permutation(len(data))\n",
    "    data_permu = data.iloc[index_permu]\n",
    "    test_size = int(len(data_permu)*ratio_test)\n",
    "    train_set = data_permu.iloc[:-test_size]\n",
    "    test_set = data_permu.iloc[-test_size:]\n",
    "    return train_set, test_set"
   ]
  },
  {
   "cell_type": "code",
   "execution_count": 4,
   "id": "e6a721eb-5e4e-47a6-a05c-298654c0fe3c",
   "metadata": {},
   "outputs": [
    {
     "name": "stdout",
     "output_type": "stream",
     "text": [
      "Kích thước tập train: 42\n",
      "Kích thước tập train: 10\n"
     ]
    }
   ],
   "source": [
    "train_set, test_set = split_train_test(data, 0.2)\n",
    "train_set.reset_index(drop = True, inplace = True)\n",
    "test_set.reset_index(drop = True, inplace = True)\n",
    "print(\"Kích thước tập train:\", len(train_set))\n",
    "print(\"Kích thước tập train:\", len(test_set))"
   ]
  },
  {
   "cell_type": "code",
   "execution_count": 5,
   "id": "dfd8a5e3-92c0-4408-91f2-5812a16f497b",
   "metadata": {},
   "outputs": [
    {
     "name": "stdout",
     "output_type": "stream",
     "text": [
      "42 42\n",
      "10 10\n",
      "0    Privatization of education leads to disparitie...\n",
      "1    Teacher evaluations based on student test scor...\n",
      "2    Educational policies fail to address the diver...\n",
      "3    Teacher tenure policies aim to protect educato...\n",
      "4    Public education should be funded adequately t...\n",
      "5    Charter schools drain resources from public ed...\n",
      "6    Despite budget constraints, the school has man...\n",
      "7    The impact of educational reforms remains unce...\n",
      "8    Educational policies should be responsive to t...\n",
      "9    Project-based learning encourages collaboratio...\n",
      "Name: Text, dtype: object\n",
      "0    negative\n",
      "1    negative\n",
      "2    negative\n",
      "3    positive\n",
      "4    negative\n",
      "5    negative\n",
      "6    positive\n",
      "7    positive\n",
      "8    negative\n",
      "9    positive\n",
      "Name: Label, dtype: object\n"
     ]
    }
   ],
   "source": [
    "X_train, y_train = train_set['Text'], train_set['Label']\n",
    "X_test, y_test = test_set['Text'], test_set['Label']\n",
    "print(len(X_train), len(y_train))\n",
    "print(len(X_test), len(y_test))\n",
    "print(X_test)\n",
    "print(y_test)"
   ]
  },
  {
   "cell_type": "code",
   "execution_count": 6,
   "id": "0eb13bea-124a-4405-9aec-2c40bb5b0bcb",
   "metadata": {},
   "outputs": [
    {
     "name": "stdout",
     "output_type": "stream",
     "text": [
      "Label\n",
      "positive    22\n",
      "negative    20\n",
      "Name: count, dtype: int64\n",
      "Label\n",
      "negative    6\n",
      "positive    4\n",
      "Name: count, dtype: int64\n"
     ]
    }
   ],
   "source": [
    "print(y_train.value_counts())\n",
    "print(y_test.value_counts())"
   ]
  },
  {
   "cell_type": "code",
   "execution_count": 7,
   "id": "fa39726f-6ef4-4701-93bd-bc7383550379",
   "metadata": {},
   "outputs": [
    {
     "name": "stdout",
     "output_type": "stream",
     "text": [
      "0    positive\n",
      "1    negative\n",
      "2    positive\n",
      "3    negative\n",
      "4    positive\n",
      "Name: Label, dtype: object\n"
     ]
    },
    {
     "data": {
      "text/plain": [
       "0    1\n",
       "1    0\n",
       "2    1\n",
       "3    0\n",
       "4    1\n",
       "Name: Label, dtype: int64"
      ]
     },
     "execution_count": 7,
     "metadata": {},
     "output_type": "execute_result"
    }
   ],
   "source": [
    "# chuyển đổi positive: 1 và negative: 0\n",
    "print(y_train.head())\n",
    "y_train = y_train.map({\"positive\": 1, \"negative\": 0})\n",
    "y_train.head()"
   ]
  },
  {
   "cell_type": "code",
   "execution_count": 8,
   "id": "c88184ca-7282-4870-ad64-ede0da738e75",
   "metadata": {},
   "outputs": [
    {
     "name": "stdout",
     "output_type": "stream",
     "text": [
      "[[0 0 0 ... 0 0 0]\n",
      " [0 0 0 ... 0 0 0]\n",
      " [0 0 0 ... 0 0 0]\n",
      " ...\n",
      " [0 0 0 ... 0 0 0]\n",
      " [0 0 0 ... 0 0 0]\n",
      " [0 0 0 ... 0 0 0]]\n",
      "(42, 211)\n"
     ]
    }
   ],
   "source": [
    "# count1: phân phối Bernoulli --> cài tham số binary: True\n",
    "count1 = CountVectorizer(binary = True, stop_words = 'english') # dùng bộ lọc trong tiếng anh\n",
    "count1.fit(X_train)\n",
    "X_train = count1.transform(X_train)\n",
    "print(X_train.toarray())\n",
    "print(X_train.toarray().shape)"
   ]
  },
  {
   "cell_type": "code",
   "execution_count": 9,
   "id": "cf474719-bc8e-402c-bc52-86d4d3ab4819",
   "metadata": {},
   "outputs": [
    {
     "name": "stdout",
     "output_type": "stream",
     "text": [
      "['abilities' 'academic' 'access' 'accommodate' 'achievement' 'adequate'\n",
      " 'affluent' 'allocation' 'alternatives' 'anxiety' 'argue' 'awareness'\n",
      " 'backgrounds' 'based' 'best' 'bridge' 'budget' 'capture' 'challenges'\n",
      " 'charter' 'childhood' 'citizenship' 'class' 'classroom' 'classrooms'\n",
      " 'collaboration' 'communities' 'competence' 'competition' 'complex'\n",
      " 'connections' 'contentious' 'create' 'creativity' 'critical' 'critics'\n",
      " 'crucial' 'cultural' 'culture' 'curricula' 'curriculum' 'cuts' 'debate'\n",
      " 'debated' 'decreased' 'despite' 'disparities' 'diverse' 'diversity'\n",
      " 'divert' 'early' 'education' 'educational' 'educators' 'effectiveness'\n",
      " 'efforts' 'emphasis' 'emphasize' 'empower' 'engagement' 'essential'\n",
      " 'evaluation' 'exacerbate' 'exam' 'expense' 'faces' 'fail' 'falls'\n",
      " 'favoring' 'favors' 'fewer' 'flexibility' 'flexible' 'focus' 'fosters'\n",
      " 'foundation' 'funding' 'gains' 'gap' 'global' 'higher' 'hindering'\n",
      " 'holistic' 'impersonal' 'important' 'improvements' 'inclusivity'\n",
      " 'incorporate' 'increased' 'inequalities' 'inequities' 'informed'\n",
      " 'initiatives' 'innovative' 'input' 'interaction' 'involvement'\n",
      " 'isolating' 'issue' 'knowledge' 'lack' 'lacks' 'larger' 'lays' 'leads'\n",
      " 'learners' 'learning' 'led' 'lifelong' 'limit' 'long' 'marginalized'\n",
      " 'matter' 'meaningful' 'measures' 'memorization' 'merely' 'methods'\n",
      " 'multiple' 'narrow' 'narrows' 'navigating' 'neglect' 'offer' 'offers'\n",
      " 'ones' 'online' 'opportunity' 'parental' 'perpetuate' 'perpetuates'\n",
      " 'persist' 'personal' 'platforms' 'policies' 'poses' 'potential'\n",
      " 'practical' 'practices' 'preparation' 'prioritize' 'privatization'\n",
      " 'privilege' 'privileged' 'profit' 'programs' 'project' 'promoting'\n",
      " 'provide' 'public' 'quality' 'range' 'receive' 'recent' 'recognition'\n",
      " 'reform' 'reliance' 'remains' 'research' 'resource' 'resources' 'result'\n",
      " 'revolutionize' 'right' 'risks' 'role' 'rote' 'school' 'schools' 'screen'\n",
      " 'short' 'sizes' 'skills' 'social' 'society' 'special' 'standardized'\n",
      " 'standards' 'stifles' 'strategies' 'stress' 'strive' 'struggle' 'student'\n",
      " 'students' 'styles' 'success' 'superficial' 'support' 'sustainability'\n",
      " 'systems' 'teacher' 'teachers' 'teaching' 'technology' 'term' 'testing'\n",
      " 'tests' 'theoretical' 'thinkers' 'thinking' 'time' 'today' 'traditional'\n",
      " 'training' 'true' 'underfunded' 'unexpected' 'universal' 'unnecessary'\n",
      " 'world']\n",
      "211\n"
     ]
    }
   ],
   "source": [
    "# xem tên các đặc trưng\n",
    "get_name = count1.get_feature_names_out()\n",
    "print(get_name)\n",
    "print(len(get_name)) "
   ]
  },
  {
   "cell_type": "code",
   "execution_count": 10,
   "id": "8d6f8e93-2567-4163-aeb7-6cdcf26712aa",
   "metadata": {},
   "outputs": [],
   "source": [
    "bernoulli = BernoulliNB()\n",
    "model1 = bernoulli.fit(X_train, y_train)"
   ]
  },
  {
   "cell_type": "code",
   "execution_count": 11,
   "id": "729305c7-a841-4d35-a04e-1cf934d1c0d4",
   "metadata": {},
   "outputs": [
    {
     "name": "stdout",
     "output_type": "stream",
     "text": [
      "[[0 0 1 ... 0 0 0]\n",
      " [0 0 0 ... 0 0 0]\n",
      " [0 0 0 ... 0 0 0]\n",
      " ...\n",
      " [0 0 0 ... 0 0 0]\n",
      " [0 0 0 ... 0 0 0]\n",
      " [0 0 0 ... 0 0 0]]\n",
      "(10, 211)\n"
     ]
    }
   ],
   "source": [
    "# chuyển đổi X_test về ma trận trước khi dự đoán\n",
    "# lưu ý: biến đổi dựa trên các đặc trưng của count 1\n",
    "X_test = count1.transform(X_test)\n",
    "print(X_test.toarray())\n",
    "print(X_test.shape)"
   ]
  },
  {
   "cell_type": "code",
   "execution_count": 12,
   "id": "06ae9721-1884-4e0a-adaf-643367499363",
   "metadata": {},
   "outputs": [
    {
     "name": "stdout",
     "output_type": "stream",
     "text": [
      "[1 1 0 1 1 0 1 1 1 1]\n",
      "[[0.10866287 0.89133713]\n",
      " [0.10450998 0.89549002]\n",
      " [0.76197449 0.23802551]\n",
      " [0.15560099 0.84439901]\n",
      " [0.26849467 0.73150533]\n",
      " [0.92064774 0.07935226]\n",
      " [0.46864237 0.53135763]\n",
      " [0.22121342 0.77878658]\n",
      " [0.37363082 0.62636918]\n",
      " [0.00829199 0.99170801]]\n",
      "['positive' 'positive' 'negative' 'positive' 'positive' 'negative'\n",
      " 'positive' 'positive' 'positive' 'positive']\n"
     ]
    }
   ],
   "source": [
    "y_pred = model1.predict(X_test)\n",
    "y_pred_proba = model1.predict_proba(X_test)\n",
    "print(y_pred)\n",
    "print(y_pred_proba)\n",
    "y_pred_trans = np.where(y_pred == 0, \"negative\", \"positive\")\n",
    "print(y_pred_trans)"
   ]
  },
  {
   "cell_type": "code",
   "execution_count": 13,
   "id": "020b6cdb-9c12-4b14-8ead-aef4076a2668",
   "metadata": {},
   "outputs": [
    {
     "data": {
      "text/plain": [
       "[(np.str_('positive'), 'negative'),\n",
       " (np.str_('positive'), 'negative'),\n",
       " (np.str_('negative'), 'negative'),\n",
       " (np.str_('positive'), 'positive'),\n",
       " (np.str_('positive'), 'negative'),\n",
       " (np.str_('negative'), 'negative'),\n",
       " (np.str_('positive'), 'positive'),\n",
       " (np.str_('positive'), 'positive'),\n",
       " (np.str_('positive'), 'negative'),\n",
       " (np.str_('positive'), 'positive')]"
      ]
     },
     "execution_count": 13,
     "metadata": {},
     "output_type": "execute_result"
    }
   ],
   "source": [
    "list(zip(y_pred_trans, y_test))"
   ]
  },
  {
   "cell_type": "code",
   "execution_count": 14,
   "id": "454c329c-421f-4bb2-8acc-77fb45998813",
   "metadata": {},
   "outputs": [],
   "source": [
    "# có 4 độ đo phổ biến cho bài toán phân loại: accuracy, precision, recall, F1 score"
   ]
  },
  {
   "cell_type": "code",
   "execution_count": 14,
   "id": "268b8eb6-605c-4e17-b817-84d0c78b045e",
   "metadata": {},
   "outputs": [
    {
     "name": "stdout",
     "output_type": "stream",
     "text": [
      "[[2 4]\n",
      " [0 4]]\n"
     ]
    }
   ],
   "source": [
    "# confusion matrix\n",
    "from sklearn.metrics import confusion_matrix\n",
    "confusion = confusion_matrix(y_test, y_pred_trans)\n",
    "print(confusion)"
   ]
  },
  {
   "cell_type": "code",
   "execution_count": 15,
   "id": "4c16effa-419f-4dc6-b7c6-ec9ebe13ba7b",
   "metadata": {},
   "outputs": [
    {
     "name": "stdout",
     "output_type": "stream",
     "text": [
      "2 4 0 4\n"
     ]
    }
   ],
   "source": [
    "# đối chiếu với lý thuyết ta thấy: TN = 2, FP = 4, FN = 0, TP = 4\n",
    "TN = confusion[0][0]\n",
    "FP = confusion[0][1]\n",
    "FN = confusion[1][0]\n",
    "TP = confusion[1][1]\n",
    "print(TN, FP, FN, TP)"
   ]
  },
  {
   "cell_type": "code",
   "execution_count": 16,
   "id": "f66b0be7-422a-443e-ad28-e3cac5e5ac11",
   "metadata": {},
   "outputs": [
    {
     "name": "stdout",
     "output_type": "stream",
     "text": [
      "Accuracy: 0.6\n",
      "Precision: 0.5\n",
      "Recall: 1.0\n",
      "F1-score: 0.67\n"
     ]
    }
   ],
   "source": [
    "accuracy = (TP + TN)/len(y_pred_trans)\n",
    "precision = TP/(TP + FP)\n",
    "recall = TP/(TP + FN)\n",
    "f1_score = round(2*(precision*recall)/(precision + recall), 2)\n",
    "print(\"Accuracy:\", accuracy)\n",
    "print(\"Precision:\", precision)\n",
    "print(\"Recall:\", recall)\n",
    "print(\"F1-score:\", f1_score)"
   ]
  },
  {
   "cell_type": "code",
   "execution_count": 17,
   "id": "c2a3a7d7-95af-4a0a-9f99-4f229b078918",
   "metadata": {},
   "outputs": [
    {
     "name": "stdout",
     "output_type": "stream",
     "text": [
      "              precision    recall  f1-score   support\n",
      "\n",
      "    negative       1.00      0.33      0.50         6\n",
      "    positive       0.50      1.00      0.67         4\n",
      "\n",
      "    accuracy                           0.60        10\n",
      "   macro avg       0.75      0.67      0.58        10\n",
      "weighted avg       0.80      0.60      0.57        10\n",
      "\n"
     ]
    }
   ],
   "source": [
    "# hàm xem nhanh các độ đo\n",
    "from sklearn.metrics import classification_report\n",
    "print(classification_report(y_test, y_pred_trans))"
   ]
  },
  {
   "cell_type": "code",
   "execution_count": 18,
   "id": "fb0197db-092b-4025-bffc-8238725b5ac3",
   "metadata": {},
   "outputs": [
    {
     "name": "stdout",
     "output_type": "stream",
     "text": [
      "0.6666666666666667\n"
     ]
    }
   ],
   "source": [
    "# đường cong ROC, AUC\n",
    "from sklearn.metrics import roc_curve, auc\n",
    "fpr, tpr, thresholds = roc_curve(y_test, y_pred_proba[:, 1], pos_label = 'positive')\n",
    "# diện tích dưới đường cong ROC\n",
    "auc = auc(fpr, tpr)\n",
    "print(auc)"
   ]
  },
  {
   "cell_type": "code",
   "execution_count": 22,
   "id": "155610f4-8c6c-4932-b06d-5d7290e7ff50",
   "metadata": {},
   "outputs": [
    {
     "data": {
      "image/png": "[encoded data removed]",
      "text/plain": [
       "<Figure size 640x480 with 1 Axes>"
      ]
     },
     "metadata": {},
     "output_type": "display_data"
    }
   ],
   "source": [
    "# vẽ đường cong ROC\n",
    "%matplotlib inline\n",
    "plt.plot([0, 1], [0, 1], linestyle = '--', color = 'gray')\n",
    "plt.plot(fpr, tpr, marker = '.', color = 'green')\n",
    "plt.ylabel('True Positive Rate')\n",
    "plt.xlabel('False Positive Rate')\n",
    "plt.title('ROC')\n",
    "plt.show()"
   ]
  },
  {
   "cell_type": "code",
   "execution_count": 37,
   "id": "e015f744-0666-499a-b17a-5d6e04b7d99d",
   "metadata": {},
   "outputs": [],
   "source": [
    "# tương tự áp dụng thuật toán Naive Bayes dùng phân phối Multinomial cho bài tập này.\n",
    "# khi dùng Multinomial thì lưu ý chuyển tham số binary = False (mặc định).\n",
    "# so sánh kết quả của hai phân phối binary và multinomial."
   ]
  }
 ],
 "metadata": {
  "kernelspec": {
   "display_name": "Python 3",
   "language": "python",
   "name": "python3"
  },
  "language_info": {
   "codemirror_mode": {
    "name": "ipython",
    "version": 3
   },
   "file_extension": ".py",
   "mimetype": "text/x-python",
   "name": "python",
   "nbconvert_exporter": "python",
   "pygments_lexer": "ipython3",
   "version": "3.11.8"
  }
 },
 "nbformat": 4,
 "nbformat_minor": 5
}
